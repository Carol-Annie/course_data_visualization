{
  "nbformat": 4,
  "nbformat_minor": 0,
  "metadata": {
    "colab": {
      "name": "visualizacao1_1.ipynb",
      "provenance": []
    },
    "kernelspec": {
      "name": "python3",
      "display_name": "Python 3"
    },
    "language_info": {
      "name": "python"
    }
  },
  "cells": [
    {
      "cell_type": "markdown",
      "source": [
        "#RESUMO"
      ],
      "metadata": {
        "id": "jVfd7Jjz4-GX"
      }
    },
    {
      "cell_type": "markdown",
      "source": [
        "https://www.delftstack.com/pt/howto/python-pandas/how-to-filter-dataframe-rows-based-on-column-values-in-pandas/#selecione-linhas-de-pandas-com-valores-de-coluna-maior-ou-menor-do-que-o-valor-espec%25C3%25ADfico"
      ],
      "metadata": {
        "id": "6IOVuPqUzKVy"
      }
    },
    {
      "cell_type": "markdown",
      "source": [
        "Essa é um vetor unidimensional, similar às listas nativas de Python. Ou seja, uma lista de valores. Portanto, a Series possui um índice, chamado index que rotula cada elemento, e permite que ele seja acessado através desse índice.\n",
        "Para exibir apenas os valores, basta chamar o atributo values do objeto.\n",
        "\n",
        "nós podemos calcular a média e o desvio padrão de uma Series através dos métodos mean() e std(), e também calcular os valores máximo e mínimo de uma Series, através dos métodos max() e min()\n",
        " Por isso o pandas dispõe de um método bastante útil que calcula e exibe diversas medidas estatísticas de uma Series ao mesmo tempo, chamado describe().\n",
        "\n",
        "s[6:].mean() -> ÚLTIMOS 6 MESES"
      ],
      "metadata": {
        "id": "3Lu9Wmir0Ycn"
      }
    },
    {
      "cell_type": "markdown",
      "source": [
        "A segunda estrutura de dados existente no pandas é o DataFrame. Estas são estruturas bidimensionais no formato de tabela, perfeitas para lidar com os dados tabulares que você estudou anteriormente. Então, assim como foi estudado, no DataFrame, cada linha representa uma observação; e cada coluna, uma variável dessa observação.\n",
        "Forma mais simples é atraves de dicionários"
      ],
      "metadata": {
        "id": "tWyue3-G18rK"
      }
    },
    {
      "cell_type": "code",
      "execution_count": null,
      "metadata": {
        "id": "1xD4mQth0VL2"
      },
      "outputs": [],
      "source": [
        "import pandas as pd\n",
        "\n",
        "df = pd.DataFrame({'Aluno' : ['Marina','Felipe','Cleyton','Isabel'],\n",
        "'Créditos cursados': [20,64,32,24],\n",
        "'Rendimento acadêmico' : [8.55,7.88,8.17,9.04],\n",
        "'Mês de nascimento' : ['Novembro','Setembro','Janeiro','Julho'],\n",
        "'Curso': ['Computação','Estatística','Computação','Matemática']})"
      ]
    },
    {
      "cell_type": "markdown",
      "source": [
        "Podemos utilizar o index para acessar linhas específicas, entretanto devemos chamar o método iloc()\n",
        "Um detalhe importante sobre DataFrames é que as colunas são formadas por Series. Isso significa que você pode selecionar as colunas individualmente e aplicar sobre elas os mesmos métodos utilizados em Series!\n",
        "\n",
        "Um detalhe importante sobre DataFrames é que as colunas são formadas por Series. Isso significa que você pode selecionar as colunas individualmente e aplicar sobre elas os mesmos métodos utilizados em Series!\n",
        "df[df['country'] == 'Brazil']"
      ],
      "metadata": {
        "id": "MtaGxh_G2aIr"
      }
    },
    {
      "cell_type": "markdown",
      "source": [
        "#OFICINA"
      ],
      "metadata": {
        "id": "2BG06VN-5Dk3"
      }
    },
    {
      "cell_type": "code",
      "source": [
        "import pandas as pd\n",
        "\n",
        "df = pd.read_csv('https://d11s0xq1vqg039.cloudfront.net/videos_conteudo/visual/micro01/oficina/arquivos/dadosoficina01.txt')\n",
        "\n",
        "df.head()"
      ],
      "metadata": {
        "colab": {
          "base_uri": "https://localhost:8080/",
          "height": 206
        },
        "id": "C4UtRgas5E4v",
        "outputId": "f001d223-4da6-4db8-bcce-851bd88af195"
      },
      "execution_count": null,
      "outputs": [
        {
          "output_type": "execute_result",
          "data": {
            "text/html": [
              "\n",
              "  <div id=\"df-8693b74e-d95e-46c6-ac80-236a84c09bc9\">\n",
              "    <div class=\"colab-df-container\">\n",
              "      <div>\n",
              "<style scoped>\n",
              "    .dataframe tbody tr th:only-of-type {\n",
              "        vertical-align: middle;\n",
              "    }\n",
              "\n",
              "    .dataframe tbody tr th {\n",
              "        vertical-align: top;\n",
              "    }\n",
              "\n",
              "    .dataframe thead th {\n",
              "        text-align: right;\n",
              "    }\n",
              "</style>\n",
              "<table border=\"1\" class=\"dataframe\">\n",
              "  <thead>\n",
              "    <tr style=\"text-align: right;\">\n",
              "      <th></th>\n",
              "      <th>country</th>\n",
              "      <th>beer_servings</th>\n",
              "      <th>spirit_servings</th>\n",
              "      <th>wine_servings</th>\n",
              "      <th>total_litres_of_pure_alcohol</th>\n",
              "    </tr>\n",
              "  </thead>\n",
              "  <tbody>\n",
              "    <tr>\n",
              "      <th>0</th>\n",
              "      <td>Afghanistan</td>\n",
              "      <td>0</td>\n",
              "      <td>0</td>\n",
              "      <td>0</td>\n",
              "      <td>0.0</td>\n",
              "    </tr>\n",
              "    <tr>\n",
              "      <th>1</th>\n",
              "      <td>Albania</td>\n",
              "      <td>89</td>\n",
              "      <td>132</td>\n",
              "      <td>54</td>\n",
              "      <td>4.9</td>\n",
              "    </tr>\n",
              "    <tr>\n",
              "      <th>2</th>\n",
              "      <td>Algeria</td>\n",
              "      <td>25</td>\n",
              "      <td>0</td>\n",
              "      <td>14</td>\n",
              "      <td>0.7</td>\n",
              "    </tr>\n",
              "    <tr>\n",
              "      <th>3</th>\n",
              "      <td>Andorra</td>\n",
              "      <td>245</td>\n",
              "      <td>138</td>\n",
              "      <td>312</td>\n",
              "      <td>12.4</td>\n",
              "    </tr>\n",
              "    <tr>\n",
              "      <th>4</th>\n",
              "      <td>Angola</td>\n",
              "      <td>217</td>\n",
              "      <td>57</td>\n",
              "      <td>45</td>\n",
              "      <td>5.9</td>\n",
              "    </tr>\n",
              "  </tbody>\n",
              "</table>\n",
              "</div>\n",
              "      <button class=\"colab-df-convert\" onclick=\"convertToInteractive('df-8693b74e-d95e-46c6-ac80-236a84c09bc9')\"\n",
              "              title=\"Convert this dataframe to an interactive table.\"\n",
              "              style=\"display:none;\">\n",
              "        \n",
              "  <svg xmlns=\"http://www.w3.org/2000/svg\" height=\"24px\"viewBox=\"0 0 24 24\"\n",
              "       width=\"24px\">\n",
              "    <path d=\"M0 0h24v24H0V0z\" fill=\"none\"/>\n",
              "    <path d=\"M18.56 5.44l.94 2.06.94-2.06 2.06-.94-2.06-.94-.94-2.06-.94 2.06-2.06.94zm-11 1L8.5 8.5l.94-2.06 2.06-.94-2.06-.94L8.5 2.5l-.94 2.06-2.06.94zm10 10l.94 2.06.94-2.06 2.06-.94-2.06-.94-.94-2.06-.94 2.06-2.06.94z\"/><path d=\"M17.41 7.96l-1.37-1.37c-.4-.4-.92-.59-1.43-.59-.52 0-1.04.2-1.43.59L10.3 9.45l-7.72 7.72c-.78.78-.78 2.05 0 2.83L4 21.41c.39.39.9.59 1.41.59.51 0 1.02-.2 1.41-.59l7.78-7.78 2.81-2.81c.8-.78.8-2.07 0-2.86zM5.41 20L4 18.59l7.72-7.72 1.47 1.35L5.41 20z\"/>\n",
              "  </svg>\n",
              "      </button>\n",
              "      \n",
              "  <style>\n",
              "    .colab-df-container {\n",
              "      display:flex;\n",
              "      flex-wrap:wrap;\n",
              "      gap: 12px;\n",
              "    }\n",
              "\n",
              "    .colab-df-convert {\n",
              "      background-color: #E8F0FE;\n",
              "      border: none;\n",
              "      border-radius: 50%;\n",
              "      cursor: pointer;\n",
              "      display: none;\n",
              "      fill: #1967D2;\n",
              "      height: 32px;\n",
              "      padding: 0 0 0 0;\n",
              "      width: 32px;\n",
              "    }\n",
              "\n",
              "    .colab-df-convert:hover {\n",
              "      background-color: #E2EBFA;\n",
              "      box-shadow: 0px 1px 2px rgba(60, 64, 67, 0.3), 0px 1px 3px 1px rgba(60, 64, 67, 0.15);\n",
              "      fill: #174EA6;\n",
              "    }\n",
              "\n",
              "    [theme=dark] .colab-df-convert {\n",
              "      background-color: #3B4455;\n",
              "      fill: #D2E3FC;\n",
              "    }\n",
              "\n",
              "    [theme=dark] .colab-df-convert:hover {\n",
              "      background-color: #434B5C;\n",
              "      box-shadow: 0px 1px 3px 1px rgba(0, 0, 0, 0.15);\n",
              "      filter: drop-shadow(0px 1px 2px rgba(0, 0, 0, 0.3));\n",
              "      fill: #FFFFFF;\n",
              "    }\n",
              "  </style>\n",
              "\n",
              "      <script>\n",
              "        const buttonEl =\n",
              "          document.querySelector('#df-8693b74e-d95e-46c6-ac80-236a84c09bc9 button.colab-df-convert');\n",
              "        buttonEl.style.display =\n",
              "          google.colab.kernel.accessAllowed ? 'block' : 'none';\n",
              "\n",
              "        async function convertToInteractive(key) {\n",
              "          const element = document.querySelector('#df-8693b74e-d95e-46c6-ac80-236a84c09bc9');\n",
              "          const dataTable =\n",
              "            await google.colab.kernel.invokeFunction('convertToInteractive',\n",
              "                                                     [key], {});\n",
              "          if (!dataTable) return;\n",
              "\n",
              "          const docLinkHtml = 'Like what you see? Visit the ' +\n",
              "            '<a target=\"_blank\" href=https://colab.research.google.com/notebooks/data_table.ipynb>data table notebook</a>'\n",
              "            + ' to learn more about interactive tables.';\n",
              "          element.innerHTML = '';\n",
              "          dataTable['output_type'] = 'display_data';\n",
              "          await google.colab.output.renderOutput(dataTable, element);\n",
              "          const docLink = document.createElement('div');\n",
              "          docLink.innerHTML = docLinkHtml;\n",
              "          element.appendChild(docLink);\n",
              "        }\n",
              "      </script>\n",
              "    </div>\n",
              "  </div>\n",
              "  "
            ],
            "text/plain": [
              "       country  beer_servings  ...  wine_servings  total_litres_of_pure_alcohol\n",
              "0  Afghanistan              0  ...              0                           0.0\n",
              "1      Albania             89  ...             54                           4.9\n",
              "2      Algeria             25  ...             14                           0.7\n",
              "3      Andorra            245  ...            312                          12.4\n",
              "4       Angola            217  ...             45                           5.9\n",
              "\n",
              "[5 rows x 5 columns]"
            ]
          },
          "metadata": {},
          "execution_count": 1
        }
      ]
    },
    {
      "cell_type": "code",
      "source": [
        "def data_beer():\n",
        "  print('*** Informações cerveja ***')\n",
        "  print('Média:',df['beer_servings'].mean())\n",
        "  print('Desvio padrão:',df['beer_servings'].std())\n",
        "\n",
        "def data_spirit():\n",
        "  print('*** Informações lincor ***')\n",
        "  print('Média:',df['spirit_servings'].mean())\n",
        "  print('Desvio padrão:',df['spirit_servings'].std())\n",
        "\n",
        "def data_wine():\n",
        "  print('*** Informações vinho ***')\n",
        "  print('Média:',df['wine_servings'].mean())\n",
        "  print('Desvio padrão:',df['wine_servings'].std())\n",
        "\n",
        "\n",
        "def total_alcohol():\n",
        "  print('*** Total de alcool ***')\n",
        "  print(df['total_litres_of_pure_alcohol'].sum())\n",
        "\n",
        "def info_france():\n",
        "  print('*** Consumo de lincor na França***')\n",
        "  print(df[df['country'] == 'France']['spirit_servings'].sum())\n",
        "\n",
        "def higher_consumption():\n",
        "  print('*** 5 maiores consumidores de vinho ***')\n",
        "  print(df.sort_values(by='wine_servings', ascending = False).head())\n",
        "\n",
        "\n",
        "def consumption_beer_up():\n",
        "  media = int(df['beer_servings'].mean())\n",
        "\n",
        "  df_comparing = df['beer_servings'] > media\n",
        "  filtered_df = df[df_comparing]\n",
        "\n",
        "  print('*** Países com consumo acima da média ***')\n",
        "  print(filtered_df['country'])\n",
        "\n",
        "def comparing_alcohol():\n",
        "  print('5. Os países nos quais o consumo total de álcool está acima do Brasil, em ordem do menor para o maior são:')\n",
        "  df2 = df[df['total_litres_of_pure_alcohol'] > df['total_litres_of_pure_alcohol'][df['country'] == 'Brazil'].max()]\n",
        "  print(df2.sort_values(by='total_litres_of_pure_alcohol', ascending = True))"
      ],
      "metadata": {
        "id": "562fdMc-6Re7"
      },
      "execution_count": null,
      "outputs": []
    },
    {
      "cell_type": "code",
      "source": [
        "data_beer()\n",
        "data_spirit()\n",
        "data_wine()\n",
        "total_alcohol()\n",
        "info_france()\n",
        "higher_consumption()\n",
        "consumption_beer_up()\n",
        "comparing_alcohol()"
      ],
      "metadata": {
        "colab": {
          "base_uri": "https://localhost:8080/"
        },
        "id": "Vd4FWYg8BAlY",
        "outputId": "a6aa0b0a-b4ef-4518-ffc3-e2b02d60fd24"
      },
      "execution_count": null,
      "outputs": [
        {
          "output_type": "stream",
          "name": "stdout",
          "text": [
            "*** Informações cerveja ***\n",
            "Média: 106.16062176165804\n",
            "Desvio padrão: 101.14310253931335\n",
            "*** Informações lincor ***\n",
            "Média: 80.99481865284974\n",
            "Desvio padrão: 88.2843121096862\n",
            "*** Informações vinho ***\n",
            "Média: 49.45077720207254\n",
            "Desvio padrão: 79.69759845763012\n",
            "*** Total de alcool ***\n",
            "910.4000000000001\n",
            "*** Consumo de lincor na França***\n",
            "151\n",
            "*** 5 maiores consumidores de vinho ***\n",
            "         country  beer_servings  ...  wine_servings  total_litres_of_pure_alcohol\n",
            "61        France            127  ...            370                          11.8\n",
            "136     Portugal            194  ...            339                          11.0\n",
            "3        Andorra            245  ...            312                          12.4\n",
            "166  Switzerland            185  ...            280                          10.2\n",
            "48       Denmark            224  ...            278                          10.4\n",
            "\n",
            "[5 rows x 5 columns]\n",
            "*** Países com consumo acima da média ***\n",
            "3             Andorra\n",
            "4              Angola\n",
            "6           Argentina\n",
            "8           Australia\n",
            "9             Austria\n",
            "            ...      \n",
            "182    United Kingdom\n",
            "184               USA\n",
            "185           Uruguay\n",
            "188         Venezuela\n",
            "189           Vietnam\n",
            "Name: country, Length: 76, dtype: object\n",
            "5. Os países nos quais o consumo total de álcool está acima do Brasil, em ordem do menor para o maior são:\n",
            "                country  ...  total_litres_of_pure_alcohol\n",
            "132            Paraguay  ...                           7.3\n",
            "35                Chile  ...                           7.6\n",
            "188           Venezuela  ...                           7.7\n",
            "143   St. Kitts & Nevis  ...                           7.7\n",
            "159        South Africa  ...                           8.2\n",
            "32               Canada  ...                           8.2\n",
            "44               Cyprus  ...                           8.2\n",
            "6             Argentina  ...                           8.3\n",
            "179              Uganda  ...                           8.3\n",
            "67               Greece  ...                           8.3\n",
            "184                 USA  ...                           8.7\n",
            "62                Gabon  ...                           8.9\n",
            "180             Ukraine  ...                           8.9\n",
            "124             Nigeria  ...                           9.1\n",
            "121         New Zealand  ...                           9.3\n",
            "120         Netherlands  ...                           9.4\n",
            "57              Estonia  ...                           9.5\n",
            "151              Serbia  ...                           9.6\n",
            "9               Austria  ...                           9.7\n",
            "138         South Korea  ...                           9.8\n",
            "60              Finland  ...                          10.0\n",
            "160               Spain  ...                          10.0\n",
            "144           St. Lucia  ...                          10.1\n",
            "166         Switzerland  ...                          10.2\n",
            "42              Croatia  ...                          10.2\n",
            "25             Bulgaria  ...                          10.3\n",
            "8             Australia  ...                          10.4\n",
            "140             Romania  ...                          10.4\n",
            "182      United Kingdom  ...                          10.4\n",
            "48              Denmark  ...                          10.4\n",
            "16              Belgium  ...                          10.5\n",
            "93               Latvia  ...                          10.5\n",
            "156            Slovenia  ...                          10.6\n",
            "135              Poland  ...                          10.9\n",
            "136            Portugal  ...                          11.0\n",
            "75              Hungary  ...                          11.3\n",
            "65              Germany  ...                          11.3\n",
            "99           Luxembourg  ...                          11.4\n",
            "155            Slovakia  ...                          11.4\n",
            "81              Ireland  ...                          11.4\n",
            "141  Russian Federation  ...                          11.5\n",
            "45       Czech Republic  ...                          11.8\n",
            "61               France  ...                          11.8\n",
            "68              Grenada  ...                          11.9\n",
            "3               Andorra  ...                          12.4\n",
            "98            Lithuania  ...                          12.9\n",
            "15              Belarus  ...                          14.4\n",
            "\n",
            "[47 rows x 5 columns]\n"
          ]
        }
      ]
    }
  ]
}